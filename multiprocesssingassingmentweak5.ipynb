{
 "cells": [
  {
   "cell_type": "markdown",
   "id": "e9f07594-165e-4aea-b3af-a521eaeda73d",
   "metadata": {},
   "source": [
    "Q1. What is multiprocessing in python? Why is it useful?"
   ]
  },
  {
   "cell_type": "markdown",
   "id": "0daa2e6f-462f-42f7-8f3a-51d592026cbc",
   "metadata": {},
   "source": [
    "ANS:--\n",
    "\n",
    "Multiprocessing refers to the ability of a system to support more than one processor at the same time. Applications in a multiprocessing system are broken to smaller routines that run independently. The operating system allocates these threads to the processors improving performance of the system."
   ]
  },
  {
   "cell_type": "code",
   "execution_count": null,
   "id": "3b95a0d8-c1c7-4aea-b734-29ede023aa61",
   "metadata": {},
   "outputs": [],
   "source": []
  },
  {
   "cell_type": "markdown",
   "id": "73c8c0df-6617-47ac-80d3-f142da8ffaa4",
   "metadata": {},
   "source": [
    "Q2. What are the differences between multiprocessing and multithreading?"
   ]
  },
  {
   "cell_type": "markdown",
   "id": "ad203fd6-42d8-4e60-affb-4c0161626594",
   "metadata": {},
   "source": [
    "ANS:----\n",
    "\n",
    "multithreading refers to the ability of a processor to execute multiple threads concurrently, where each thread runs a process. Whereas multiprocessing refers to the ability of a system to run multiple processors in parallel, where each processor can run one or more threads."
   ]
  },
  {
   "cell_type": "code",
   "execution_count": null,
   "id": "649c1684-91b1-40f3-b052-4689b13dd55e",
   "metadata": {},
   "outputs": [],
   "source": []
  },
  {
   "cell_type": "markdown",
   "id": "93425650-488e-4920-a133-7c6bf2a8fb2d",
   "metadata": {},
   "source": [
    "Q3. Write a python code to create a process using the multiprocessing module.\n"
   ]
  },
  {
   "cell_type": "code",
   "execution_count": 5,
   "id": "0befbbe6-0418-4707-931c-9bb67c8975a6",
   "metadata": {},
   "outputs": [
    {
     "name": "stdout",
     "output_type": "stream",
     "text": [
      "i am talking about it.\n",
      "hi my name is mohaan singh baanjara.\n",
      "sir i have quere about course. because he is my weak 5 but i am  \n"
     ]
    }
   ],
   "source": [
    "import multiprocessing\n",
    "def talk():\n",
    "    print(\"hi my name is mohaan singh baanjara.\\nsir i have quere about course. because he is my weak 5 but i am  \")\n",
    "if __name__==\"__main__\":\n",
    "    n= multiprocessing.Process(target=talk)\n",
    "    print(\"i am talking about it.\")\n",
    "    n.start()\n",
    "    n.join()"
   ]
  },
  {
   "cell_type": "code",
   "execution_count": null,
   "id": "21fd1e7a-6e9a-441b-bdaf-9819582fc81f",
   "metadata": {},
   "outputs": [],
   "source": []
  },
  {
   "cell_type": "markdown",
   "id": "bf3b1c07-f3c3-415f-bcac-15ce43e38ecd",
   "metadata": {},
   "source": [
    "Q4. What is a multiprocessing pool in python? Why is it used?"
   ]
  },
  {
   "cell_type": "markdown",
   "id": "e5a81bf2-647f-4591-b264-929a0ef05e84",
   "metadata": {},
   "source": [
    "ANS :-----\n",
    "Python multiprocessing Pool can be used for parallel execution of a function across multiple input values, distributing the input data across processes \n",
    "\n",
    "\n",
    "\n"
   ]
  },
  {
   "cell_type": "code",
   "execution_count": null,
   "id": "60ed5c3c-6d21-4f5a-ba3d-702b6b139d24",
   "metadata": {},
   "outputs": [],
   "source": []
  },
  {
   "cell_type": "markdown",
   "id": "f36288b2-0e82-4c06-acc0-1b9d4c187198",
   "metadata": {},
   "source": [
    "Q5. How can we create a pool of worker processes in python using the multiprocessing module?"
   ]
  },
  {
   "cell_type": "code",
   "execution_count": 13,
   "id": "6d00fee1-1406-4435-99d4-d4d8653708d8",
   "metadata": {},
   "outputs": [
    {
     "name": "stdout",
     "output_type": "stream",
     "text": [
      "[11089567, 85184, 170400029184, 704969]\n"
     ]
    }
   ],
   "source": [
    "def cube(n):\n",
    "    \n",
    "    return n**3\n",
    "if __name__ == \"__main__\":\n",
    "    with multiprocessing.Pool(processes=27) as pool:\n",
    "        out = pool.map(cube , [223,44,5544,89])\n",
    "        print(out)"
   ]
  },
  {
   "cell_type": "code",
   "execution_count": null,
   "id": "a99f20a7-65ff-4195-a62a-866f8af7bdb4",
   "metadata": {},
   "outputs": [],
   "source": []
  },
  {
   "cell_type": "markdown",
   "id": "55e82823-e900-4f62-a9b3-fb6b6b960bf3",
   "metadata": {},
   "source": [
    "Q6. Write a python program to create 4 processes, each process should print a different number using the\n",
    "multiprocessing module in python."
   ]
  },
  {
   "cell_type": "code",
   "execution_count": 34,
   "id": "4cfcd95a-ddbe-4265-932d-0fd4fdaf427f",
   "metadata": {},
   "outputs": [
    {
     "name": "stdout",
     "output_type": "stream",
     "text": [
      "DONE!\n"
     ]
    }
   ],
   "source": [
    "\n",
    "import multiprocessing\n",
    "n=[45,78]\n",
    "def squere(n):\n",
    "    print(\"squere:{}\". format(n*n))\n",
    "def cube(n):\n",
    "    print(\"Cube: {}\".format(n * n * n))\n",
    "def fourth(n):\n",
    "     print(\"fourth:{}\".format(n*n*n*n))\n",
    "        \n",
    "def fifth(n):\n",
    "    print(\"fou\")\n",
    "\n",
    "if __name__ == \"__main__\":\n",
    "    n1= multiprocessing.Process(target = squere , args=(n,) )\n",
    "    n2 = multiprocessing.Process(target = cube , args=(n,))\n",
    "    n3 = multiprocessing.Process(target = fourth , args=(n,))\n",
    "    n4 = multiprocessing.Process(target = fifth , args=(n,))\n",
    "    n1.start()\n",
    "    n2.start()\n",
    "    n3.start()\n",
    "    n4.start()\n",
    "    n1.join()\n",
    "    n2.join()\n",
    "    n3.join()\n",
    "    n4.join()\n",
    "    \n",
    "print(\"DONE!\")\n",
    "                                                         "
   ]
  },
  {
   "cell_type": "code",
   "execution_count": null,
   "id": "ab4c2e27-9545-4bc6-bde2-584fcac556cf",
   "metadata": {},
   "outputs": [],
   "source": []
  },
  {
   "cell_type": "code",
   "execution_count": null,
   "id": "b61c54e1-5eb7-41da-b884-57a18fb723f2",
   "metadata": {},
   "outputs": [],
   "source": []
  },
  {
   "cell_type": "code",
   "execution_count": null,
   "id": "8c0d515c-fc8b-4fa1-aa80-5af778305c6b",
   "metadata": {},
   "outputs": [],
   "source": []
  },
  {
   "cell_type": "code",
   "execution_count": null,
   "id": "e706f50c-bdb7-41fd-a791-108854ea725c",
   "metadata": {},
   "outputs": [],
   "source": []
  },
  {
   "cell_type": "code",
   "execution_count": null,
   "id": "7c7cfc5b-50c4-47eb-b940-bad3e6c2b21c",
   "metadata": {},
   "outputs": [],
   "source": []
  },
  {
   "cell_type": "code",
   "execution_count": null,
   "id": "3d998069-3dc7-464d-b071-30a1bbc5e7dd",
   "metadata": {},
   "outputs": [],
   "source": []
  },
  {
   "cell_type": "code",
   "execution_count": null,
   "id": "b13bce76-aca3-4202-8ac5-474f0796bdde",
   "metadata": {},
   "outputs": [],
   "source": []
  },
  {
   "cell_type": "code",
   "execution_count": null,
   "id": "4ccf7c7f-046a-4ec0-876e-a072481659ed",
   "metadata": {},
   "outputs": [],
   "source": []
  }
 ],
 "metadata": {
  "kernelspec": {
   "display_name": "Python 3 (ipykernel)",
   "language": "python",
   "name": "python3"
  },
  "language_info": {
   "codemirror_mode": {
    "name": "ipython",
    "version": 3
   },
   "file_extension": ".py",
   "mimetype": "text/x-python",
   "name": "python",
   "nbconvert_exporter": "python",
   "pygments_lexer": "ipython3",
   "version": "3.10.8"
  }
 },
 "nbformat": 4,
 "nbformat_minor": 5
}
